{
  "nbformat": 4,
  "nbformat_minor": 0,
  "metadata": {
    "colab": {
      "name": "Untitled1.ipynb",
      "version": "0.3.2",
      "provenance": [],
      "toc_visible": true,
      "include_colab_link": true
    },
    "kernelspec": {
      "name": "python3",
      "display_name": "Python 3"
    },
    "accelerator": "GPU"
  },
  "cells": [
    {
      "cell_type": "markdown",
      "metadata": {
        "id": "view-in-github",
        "colab_type": "text"
      },
      "source": [
        "<a href=\"https://colab.research.google.com/github/bhave068/Devanagiri-Recognizer/blob/master/project.ipynb\" target=\"_parent\"><img src=\"https://colab.research.google.com/assets/colab-badge.svg\" alt=\"Open In Colab\"/></a>"
      ]
    },
    {
      "cell_type": "markdown",
      "metadata": {
        "id": "Ir9Vh11CYNBv",
        "colab_type": "text"
      },
      "source": [
        "#Import modules\n"
      ]
    },
    {
      "cell_type": "code",
      "metadata": {
        "id": "CUfumFRv-F3n",
        "colab_type": "code",
        "colab": {}
      },
      "source": [
        "#standard useful data processing imports\n",
        "import random\n",
        "import numpy as np\n",
        "import pandas as pd\n",
        "#visualisation imports\n",
        "import matplotlib.pyplot as plt\n",
        "import seaborn as sns\n",
        "#Scikit learn for preprocessing\n",
        "from sklearn.model_selection import train_test_split\n",
        "from sklearn.preprocessing import LabelEncoder\n",
        "#keras imports\n",
        "from keras.models import Sequential\n",
        "from keras.layers import Dense,Conv2D,MaxPool2D,Flatten,Dropout\n",
        "from keras.optimizers import Adam\n",
        "from keras.utils.np_utils import to_categorical\n",
        "\n"
      ],
      "execution_count": 0,
      "outputs": []
    },
    {
      "cell_type": "code",
      "metadata": {
        "id": "cf_R2kMIC_AA",
        "colab_type": "code",
        "colab": {}
      },
      "source": [
        "# Run this cell to mount your Google Drive.\n",
        "from google.colab import drive\n",
        "drive.mount('/content/drive')"
      ],
      "execution_count": 0,
      "outputs": []
    },
    {
      "cell_type": "markdown",
      "metadata": {
        "id": "TGw6-Jr1YWCI",
        "colab_type": "text"
      },
      "source": [
        "#Dataset"
      ]
    },
    {
      "cell_type": "code",
      "metadata": {
        "id": "_TepuS-y-Vpr",
        "colab_type": "code",
        "colab": {}
      },
      "source": [
        "dataset=pd.read_csv('/content/drive/My Drive/data.csv')"
      ],
      "execution_count": 0,
      "outputs": []
    },
    {
      "cell_type": "code",
      "metadata": {
        "id": "CuUE4lYc-cwv",
        "colab_type": "code",
        "colab": {}
      },
      "source": [
        "print(dataset.head())"
      ],
      "execution_count": 0,
      "outputs": []
    },
    {
      "cell_type": "code",
      "metadata": {
        "id": "lu6k_9Fr-31n",
        "colab_type": "code",
        "colab": {}
      },
      "source": [
        "dataset.shape"
      ],
      "execution_count": 0,
      "outputs": []
    },
    {
      "cell_type": "code",
      "metadata": {
        "id": "6DIzGXkW-5GZ",
        "colab_type": "code",
        "colab": {}
      },
      "source": [
        "df=dataset['character'].value_counts()\n",
        "print(type(df))"
      ],
      "execution_count": 0,
      "outputs": []
    },
    {
      "cell_type": "code",
      "metadata": {
        "id": "gqypuXG9_RyU",
        "colab_type": "code",
        "colab": {}
      },
      "source": [
        "df.head()\n",
        "len(df)"
      ],
      "execution_count": 0,
      "outputs": []
    },
    {
      "cell_type": "code",
      "metadata": {
        "id": "coCyC29CvfL-",
        "colab_type": "code",
        "colab": {}
      },
      "source": [
        "x=dataset.values[:,:-1]/255.0\n",
        "y=dataset['character'].values\n",
        "del dataset\n",
        "n_classes=46"
      ],
      "execution_count": 0,
      "outputs": []
    },
    {
      "cell_type": "code",
      "metadata": {
        "id": "93jrdT51zQv7",
        "colab_type": "code",
        "colab": {}
      },
      "source": [
        "print(type(x),type(y))"
      ],
      "execution_count": 0,
      "outputs": []
    },
    {
      "cell_type": "markdown",
      "metadata": {
        "id": "kTXrVRT4Yb8r",
        "colab_type": "text"
      },
      "source": [
        "#Images"
      ]
    },
    {
      "cell_type": "code",
      "metadata": {
        "id": "nhsh0UPyzXmT",
        "colab_type": "code",
        "colab": {}
      },
      "source": [
        "img_width_cols=32\n",
        "img_height_rows=32\n",
        "customcmap=sns.dark_palette(\"white\",as_cmap=True)\n",
        "random_idxs=random.sample(range(1,len(y)),4)\n",
        "plt_dims=(25,5)\n",
        "f, axarr = plt.subplots(1, 4, figsize=plt_dims)\n",
        "it = 0\n",
        "for idx in random_idxs:\n",
        "    image = x[idx,:].reshape(img_width_cols,img_height_rows)*255\n",
        "    axarr[it].set_title(y[idx])\n",
        "    axarr[it].axis('off')\n",
        "    sns.heatmap(data=image.astype(np.uint8),cmap=customcmap,ax=axarr[it])\n",
        "    it=it+1"
      ],
      "execution_count": 0,
      "outputs": []
    },
    {
      "cell_type": "markdown",
      "metadata": {
        "id": "9DApFiY-YfaA",
        "colab_type": "text"
      },
      "source": [
        "#Splitting"
      ]
    },
    {
      "cell_type": "code",
      "metadata": {
        "id": "nEFHcwuz2ErF",
        "colab_type": "code",
        "colab": {}
      },
      "source": [
        "x_train,x_test,y_train,y_test=train_test_split(x,y,test_size=0.2,random_state=42)\n",
        "le=LabelEncoder()\n",
        "y_train=le.fit_transform(y_train)\n",
        "y_test=le.transform(y_test)\n",
        "y_train=to_categorical(y_train,n_classes)\n",
        "y_test=to_categorical(y_test,n_classes)"
      ],
      "execution_count": 0,
      "outputs": []
    },
    {
      "cell_type": "code",
      "metadata": {
        "id": "5KtC5Bvd-cOU",
        "colab_type": "code",
        "colab": {}
      },
      "source": [
        "x_train.shape"
      ],
      "execution_count": 0,
      "outputs": []
    },
    {
      "cell_type": "markdown",
      "metadata": {
        "id": "bOrvpq3NYjsI",
        "colab_type": "text"
      },
      "source": [
        "#Reshape"
      ]
    },
    {
      "cell_type": "code",
      "metadata": {
        "id": "4Pket1wN9vmr",
        "colab_type": "code",
        "colab": {}
      },
      "source": [
        "im_shape=(img_height_rows,img_width_cols,1)\n",
        "x_train=x_train.reshape(x_train.shape[0],*im_shape)\n",
        "x_test=x_test.reshape(x_test.shape[0],*im_shape)"
      ],
      "execution_count": 0,
      "outputs": []
    },
    {
      "cell_type": "markdown",
      "metadata": {
        "id": "mcKyqAEDYnNN",
        "colab_type": "text"
      },
      "source": [
        "#CNN Model"
      ]
    },
    {
      "cell_type": "code",
      "metadata": {
        "id": "3hYbrR10-0ZT",
        "colab_type": "code",
        "colab": {}
      },
      "source": [
        "cnn = Sequential()"
      ],
      "execution_count": 0,
      "outputs": []
    },
    {
      "cell_type": "code",
      "metadata": {
        "id": "9pgD1SoCHYIt",
        "colab_type": "code",
        "colab": {}
      },
      "source": [
        "kernelSize=(3,3)\n",
        "ip_activation=\"relu\"\n",
        "ip_conv0=Conv2D(filters=32,kernel_size=kernelSize,input_shape=im_shape,activation=ip_activation)\n",
        "cnn.add(ip_conv_0)"
      ],
      "execution_count": 0,
      "outputs": []
    },
    {
      "cell_type": "code",
      "metadata": {
        "id": "rAMaag-gIT3S",
        "colab_type": "code",
        "colab": {}
      },
      "source": [
        "ip_conv_0_1=Conv2D(filters=64,kernel_size=kernelSize,activation=ip_activation)\n",
        "cnn.add(ip_conv_0_1)"
      ],
      "execution_count": 0,
      "outputs": []
    },
    {
      "cell_type": "markdown",
      "metadata": {
        "id": "ubOb_Wm-Yxp-",
        "colab_type": "text"
      },
      "source": [
        "pooling layer"
      ]
    },
    {
      "cell_type": "code",
      "metadata": {
        "id": "FWmLupqgJMFK",
        "colab_type": "code",
        "colab": {}
      },
      "source": [
        "pool_0=MaxPool2D(pool_size=(2,2),strides=(2,2),padding=\"same\")"
      ],
      "execution_count": 0,
      "outputs": []
    },
    {
      "cell_type": "markdown",
      "metadata": {
        "id": "qIq03wGWYtga",
        "colab_type": "text"
      },
      "source": [
        "another conv layer"
      ]
    },
    {
      "cell_type": "code",
      "metadata": {
        "id": "cTZruhe0Jlrx",
        "colab_type": "code",
        "colab": {}
      },
      "source": [
        "cnn.add(pool_0)\n",
        "ip_conv_1=Conv2D(filters=64,kernel_size=kernelSize,activation=ip_activation)\n",
        "cnn.add(ip_conv_1)\n",
        "pool_1 = MaxPool2D(pool_size=(2, 2), strides=(2, 2), padding=\"same\")\n",
        "cnn.add(pool_1)"
      ],
      "execution_count": 0,
      "outputs": []
    },
    {
      "cell_type": "markdown",
      "metadata": {
        "id": "oXTMhp29Yq8Y",
        "colab_type": "text"
      },
      "source": [
        "Dropout"
      ]
    },
    {
      "cell_type": "code",
      "metadata": {
        "id": "wtUmJXScKKf8",
        "colab_type": "code",
        "colab": {}
      },
      "source": [
        "drop_layer_0 = Dropout(0.2)\n",
        "cnn.add(drop_layer_0)"
      ],
      "execution_count": 0,
      "outputs": []
    },
    {
      "cell_type": "markdown",
      "metadata": {
        "id": "32XVrRpRY3Zx",
        "colab_type": "text"
      },
      "source": [
        "Flatten the layer"
      ]
    },
    {
      "cell_type": "code",
      "metadata": {
        "id": "80ZChRiXKkBB",
        "colab_type": "code",
        "colab": {}
      },
      "source": [
        "flat_layer_0=Flatten()\n",
        "cnn.add(Flatten())"
      ],
      "execution_count": 0,
      "outputs": []
    },
    {
      "cell_type": "code",
      "metadata": {
        "id": "OX1njGjgKy9m",
        "colab_type": "code",
        "colab": {}
      },
      "source": [
        "h_dense_0=Dense(units=128,activation=ip_activation,kernel_initializer='uniform')\n",
        "cnn.add(h_dense_0)\n",
        "h_dense_1=Dense(units=64,activation=ip_activation,kernel_initializer='uniform')\n",
        "cnn.add(h_dense_1)"
      ],
      "execution_count": 0,
      "outputs": []
    },
    {
      "cell_type": "markdown",
      "metadata": {
        "id": "Yed8JizLY-3d",
        "colab_type": "text"
      },
      "source": [
        "add dense layer"
      ]
    },
    {
      "cell_type": "code",
      "metadata": {
        "id": "UHVWXxhHMn7O",
        "colab_type": "code",
        "colab": {}
      },
      "source": [
        "op_activation='softmax'\n",
        "output_layer=Dense(units=n_classes,activation=op_activation,kernel_initializer='uniform')\n",
        "cnn.add(output_layer)"
      ],
      "execution_count": 0,
      "outputs": []
    },
    {
      "cell_type": "markdown",
      "metadata": {
        "id": "CzxU7K0PY8A-",
        "colab_type": "text"
      },
      "source": [
        "compile the model"
      ]
    },
    {
      "cell_type": "code",
      "metadata": {
        "id": "R7H6uPV4M--G",
        "colab_type": "code",
        "colab": {}
      },
      "source": [
        "opt='adam'\n",
        "loss='categorical_crossentropy'\n",
        "metrics=['accuracy']\n",
        "cnn.compile(optimizer=opt, loss=loss, metrics=metrics)"
      ],
      "execution_count": 0,
      "outputs": []
    },
    {
      "cell_type": "markdown",
      "metadata": {
        "id": "re9h1TLKPPl2",
        "colab_type": "text"
      },
      "source": [
        "#Tensorboard"
      ]
    },
    {
      "cell_type": "code",
      "metadata": {
        "id": "4BLtSR2NQSW5",
        "colab_type": "code",
        "colab": {}
      },
      "source": [
        "!wget https://bin.equinox.io/c/4VmDzA7iaHb/ngrok-stable-linux-amd64.zip\n",
        "!unzip ngrok-stable-linux-amd64.zip"
      ],
      "execution_count": 0,
      "outputs": []
    },
    {
      "cell_type": "code",
      "metadata": {
        "id": "UqmFD_e6QSEo",
        "colab_type": "code",
        "colab": {}
      },
      "source": [
        "import tensorboardcolab as tbc\n",
        "tboard = tbc.TensorBoardColab()\n",
        "from tensorboardcolab import TensorBoardColabCallback"
      ],
      "execution_count": 0,
      "outputs": []
    },
    {
      "cell_type": "code",
      "metadata": {
        "id": "AR6vsRrUQ6Fb",
        "colab_type": "code",
        "colab": {}
      },
      "source": [
        "get_ipython().system_raw('./ngrok http 6006 &')"
      ],
      "execution_count": 0,
      "outputs": []
    },
    {
      "cell_type": "code",
      "metadata": {
        "id": "4nKqNagWQ5sW",
        "colab_type": "code",
        "colab": {}
      },
      "source": [
        ""
      ],
      "execution_count": 0,
      "outputs": []
    },
    {
      "cell_type": "code",
      "metadata": {
        "id": "XtwJQdK6NXO3",
        "colab_type": "code",
        "colab": {}
      },
      "source": [
        "'''from keras.callbacks import TensorBoard\n",
        "tbCallBack = TensorBoard(log_dir='./log', histogram_freq=1,\n",
        "                         write_graph=True,\n",
        "                         write_grads=True,\n",
        "                         batch_size=32,\n",
        "                         write_images=True)'''\n",
        "history=cnn.fit(x_train,y_train,batch_size=32,epochs=10,verbose=1,validation_data=(x_test,y_test),callbacks=[TensorBoardColabCallback(tboard)])"
      ],
      "execution_count": 0,
      "outputs": []
    },
    {
      "cell_type": "code",
      "metadata": {
        "id": "nT6dQKg1N1cr",
        "colab_type": "code",
        "colab": {}
      },
      "source": [
        "scores=cnn.evaluate(x_test,y_test,verbose=0)\n",
        "print(\"Accuracy:%.2f%%\" % (scores[1]*100))"
      ],
      "execution_count": 0,
      "outputs": []
    },
    {
      "cell_type": "code",
      "metadata": {
        "id": "1QqaqA7MPrvJ",
        "colab_type": "code",
        "colab": {},
        "cellView": "both"
      },
      "source": [
        "#@title\n",
        "print(history)\n",
        "fig1, ax_acc = plt.subplots()\n",
        "plt.plot(history.history['acc'])\n",
        "plt.plot(history.history['val_acc'])\n",
        "plt.xlabel('Epoch')\n",
        "plt.ylabel('Accuracy')\n",
        "plt.title('Model - Accuracy')\n",
        "plt.legend(['Training', 'Validation'], loc='lower right')\n",
        "plt.show()\n"
      ],
      "execution_count": 0,
      "outputs": []
    },
    {
      "cell_type": "code",
      "metadata": {
        "id": "tZzP76JNPxub",
        "colab_type": "code",
        "colab": {}
      },
      "source": [
        ""
      ],
      "execution_count": 0,
      "outputs": []
    }
  ]
}