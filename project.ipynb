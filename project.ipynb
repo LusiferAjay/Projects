{
  "nbformat": 4,
  "nbformat_minor": 0,
  "metadata": {
    "colab": {
      "name": "Untitled1.ipynb",
      "version": "0.3.2",
      "provenance": [],
      "toc_visible": true,
      "include_colab_link": true
    },
    "kernelspec": {
      "name": "python3",
      "display_name": "Python 3"
    },
    "accelerator": "GPU"
  },
  "cells": [
    {
      "cell_type": "markdown",
      "metadata": {
        "id": "view-in-github",
        "colab_type": "text"
      },
      "source": [
        "<a href=\"https://colab.research.google.com/github/bhave068/Devanagiri-Recognizer/blob/master/project.ipynb\" target=\"_parent\"><img src=\"https://colab.research.google.com/assets/colab-badge.svg\" alt=\"Open In Colab\"/></a>"
      ]
    },
    {
      "cell_type": "code",
      "metadata": {
        "id": "CUfumFRv-F3n",
        "colab_type": "code",
        "colab": {}
      },
      "source": [
        "#standard useful data processing imports\n",
        "import random\n",
        "import numpy as np\n",
        "import pandas as pd\n",
        "#visualisation imports\n",
        "import matplotlib.pyplot as plt\n",
        "import seaborn as sns\n",
        "#Scikit learn for preprocessing\n",
        "from sklearn.model_selection import train_test_split\n",
        "from sklearn.preprocessing import LabelEncoder\n",
        "#keras imports\n",
        "from keras.models import Sequential\n",
        "from keras.layers import Dense,Conv2D,MaxPool2D,Flatten,Dropout\n",
        "from keras.optimizers import Adam\n",
        "from keras.utils.np_utils import to_categorical\n",
        "\n"
      ],
      "execution_count": 0,
      "outputs": []
    },
    {
      "cell_type": "code",
      "metadata": {
        "id": "Hx6_edCq-KBd",
        "colab_type": "code",
        "colab": {}
      },
      "source": [
        "\n",
        "\n",
        "\n"
      ],
      "execution_count": 0,
      "outputs": []
    },
    {
      "cell_type": "code",
      "metadata": {
        "id": "cf_R2kMIC_AA",
        "colab_type": "code",
        "colab": {
          "base_uri": "https://localhost:8080/",
          "height": 121
        },
        "outputId": "49a4ea77-9f97-44f6-d5c2-5fcd00ae8b47"
      },
      "source": [
        "# Run this cell to mount your Google Drive.\n",
        "from google.colab import drive\n",
        "drive.mount('/content/drive')"
      ],
      "execution_count": 1,
      "outputs": [
        {
          "output_type": "stream",
          "text": [
            "Go to this URL in a browser: https://accounts.google.com/o/oauth2/auth?client_id=947318989803-6bn6qk8qdgf4n4g3pfee6491hc0brc4i.apps.googleusercontent.com&redirect_uri=urn%3Aietf%3Awg%3Aoauth%3A2.0%3Aoob&scope=email%20https%3A%2F%2Fwww.googleapis.com%2Fauth%2Fdocs.test%20https%3A%2F%2Fwww.googleapis.com%2Fauth%2Fdrive%20https%3A%2F%2Fwww.googleapis.com%2Fauth%2Fdrive.photos.readonly%20https%3A%2F%2Fwww.googleapis.com%2Fauth%2Fpeopleapi.readonly&response_type=code\n",
            "\n",
            "Enter your authorization code:\n",
            "··········\n",
            "Mounted at /content/drive\n"
          ],
          "name": "stdout"
        }
      ]
    },
    {
      "cell_type": "code",
      "metadata": {
        "id": "_TepuS-y-Vpr",
        "colab_type": "code",
        "colab": {}
      },
      "source": [
        "dataset=pd.read_csv('/content/drive/My Drive/data.csv')"
      ],
      "execution_count": 0,
      "outputs": []
    },
    {
      "cell_type": "code",
      "metadata": {
        "id": "CuUE4lYc-cwv",
        "colab_type": "code",
        "outputId": "d2c4af95-7733-4fb3-c401-85500eed6896",
        "colab": {
          "base_uri": "https://localhost:8080/",
          "height": 151
        }
      },
      "source": [
        "print(dataset.head())"
      ],
      "execution_count": 48,
      "outputs": [
        {
          "output_type": "stream",
          "text": [
            "   pixel_0000  pixel_0001  pixel_0002  ...  pixel_1022  pixel_1023        character\n",
            "0           0           0           0  ...           0           0  character_01_ka\n",
            "1           0           0           0  ...           0           0  character_01_ka\n",
            "2           0           0           0  ...           0           0  character_01_ka\n",
            "3           0           0           0  ...           0           0  character_01_ka\n",
            "4           0           0           0  ...           0           0  character_01_ka\n",
            "\n",
            "[5 rows x 1025 columns]\n"
          ],
          "name": "stdout"
        }
      ]
    },
    {
      "cell_type": "code",
      "metadata": {
        "id": "lu6k_9Fr-31n",
        "colab_type": "code",
        "outputId": "495e96ba-afe6-429d-8da1-eb5d1eb47e99",
        "colab": {
          "base_uri": "https://localhost:8080/",
          "height": 34
        }
      },
      "source": [
        "dataset.shape"
      ],
      "execution_count": 47,
      "outputs": [
        {
          "output_type": "execute_result",
          "data": {
            "text/plain": [
              "(92000, 1025)"
            ]
          },
          "metadata": {
            "tags": []
          },
          "execution_count": 47
        }
      ]
    },
    {
      "cell_type": "code",
      "metadata": {
        "id": "6DIzGXkW-5GZ",
        "colab_type": "code",
        "outputId": "40727ddf-6f9d-4655-e352-583c6282da45",
        "colab": {
          "base_uri": "https://localhost:8080/",
          "height": 34
        }
      },
      "source": [
        "df=dataset['character'].value_counts()\n",
        "print(type(df))"
      ],
      "execution_count": 49,
      "outputs": [
        {
          "output_type": "stream",
          "text": [
            "<class 'pandas.core.series.Series'>\n"
          ],
          "name": "stdout"
        }
      ]
    },
    {
      "cell_type": "code",
      "metadata": {
        "id": "gqypuXG9_RyU",
        "colab_type": "code",
        "outputId": "723a9a95-4a6f-4d2d-9067-d9721e25dd77",
        "colab": {
          "base_uri": "https://localhost:8080/",
          "height": 34
        }
      },
      "source": [
        "df.head()\n",
        "len(df)"
      ],
      "execution_count": 50,
      "outputs": [
        {
          "output_type": "execute_result",
          "data": {
            "text/plain": [
              "46"
            ]
          },
          "metadata": {
            "tags": []
          },
          "execution_count": 50
        }
      ]
    },
    {
      "cell_type": "code",
      "metadata": {
        "id": "RubLrs60AA3d",
        "colab_type": "code",
        "outputId": "ff2cb207-3b56-4281-ae53-0bb07b00dec3",
        "colab": {
          "base_uri": "https://localhost:8080/",
          "height": 806
        }
      },
      "source": [
        "df"
      ],
      "execution_count": 0,
      "outputs": [
        {
          "output_type": "execute_result",
          "data": {
            "text/plain": [
              "character_26_yaw             2000\n",
              "character_14_dhaa            2000\n",
              "digit_0                      2000\n",
              "character_32_patalosaw       2000\n",
              "digit_2                      2000\n",
              "character_02_kha             2000\n",
              "digit_6                      2000\n",
              "character_16_tabala          2000\n",
              "character_04_gha             2000\n",
              "character_29_waw             2000\n",
              "digit_4                      2000\n",
              "digit_5                      2000\n",
              "character_31_petchiryakha    2000\n",
              "character_34_chhya           2000\n",
              "digit_7                      2000\n",
              "character_27_ra              2000\n",
              "character_09_jha             2000\n",
              "character_03_ga              2000\n",
              "character_15_adna            2000\n",
              "character_19_dha             2000\n",
              "character_25_ma              2000\n",
              "character_23_ba              2000\n",
              "character_35_tra             2000\n",
              "character_22_pha             2000\n",
              "character_01_ka              2000\n",
              "character_21_pa              2000\n",
              "character_07_chha            2000\n",
              "digit_8                      2000\n",
              "character_18_da              2000\n",
              "character_11_taamatar        2000\n",
              "character_24_bha             2000\n",
              "digit_1                      2000\n",
              "character_17_tha             2000\n",
              "digit_3                      2000\n",
              "character_28_la              2000\n",
              "character_20_na              2000\n",
              "character_06_cha             2000\n",
              "character_33_ha              2000\n",
              "character_05_kna             2000\n",
              "character_08_ja              2000\n",
              "digit_9                      2000\n",
              "character_13_daa             2000\n",
              "character_12_thaa            2000\n",
              "character_30_motosaw         2000\n",
              "character_36_gya             2000\n",
              "character_10_yna             2000\n",
              "Name: character, dtype: int64"
            ]
          },
          "metadata": {
            "tags": []
          },
          "execution_count": 13
        }
      ]
    },
    {
      "cell_type": "code",
      "metadata": {
        "id": "coCyC29CvfL-",
        "colab_type": "code",
        "colab": {}
      },
      "source": [
        "x=dataset.values[:,:-1]/255.0\n",
        "y=dataset['character'].values\n",
        "del dataset\n",
        "n_classes=46"
      ],
      "execution_count": 0,
      "outputs": []
    },
    {
      "cell_type": "code",
      "metadata": {
        "id": "93jrdT51zQv7",
        "colab_type": "code",
        "outputId": "28daf6dc-a2d2-4e3f-cda4-330e24018263",
        "colab": {
          "base_uri": "https://localhost:8080/",
          "height": 34
        }
      },
      "source": [
        "print(type(x),type(y))"
      ],
      "execution_count": 52,
      "outputs": [
        {
          "output_type": "stream",
          "text": [
            "<class 'numpy.ndarray'> <class 'numpy.ndarray'>\n"
          ],
          "name": "stdout"
        }
      ]
    },
    {
      "cell_type": "code",
      "metadata": {
        "id": "nhsh0UPyzXmT",
        "colab_type": "code",
        "outputId": "4cef42e2-9f23-4682-8277-052e8e78cc87",
        "colab": {
          "base_uri": "https://localhost:8080/",
          "height": 358
        }
      },
      "source": [
        "img_width_cols=32\n",
        "img_height_rows=32\n",
        "customcmap=sns.dark_palette(\"white\",as_cmap=True)\n",
        "random_idxs=random.sample(range(1,len(y)),4)\n",
        "plt_dims=(25,5)\n",
        "f, axarr = plt.subplots(1, 4, figsize=plt_dims)\n",
        "it = 0\n",
        "for idx in random_idxs:\n",
        "    image = x[idx,:].reshape(img_width_cols,img_height_rows)*255\n",
        "    axarr[it].set_title(y[idx])\n",
        "    axarr[it].axis('off')\n",
        "    sns.heatmap(data=image.astype(np.uint8),cmap=customcmap,ax=axarr[it])\n",
        "    it=it+1"
      ],
      "execution_count": 53,
      "outputs": [
        {
          "output_type": "display_data",
          "data": {
            "image/png": "[encoded data removed]",
            "text/plain": [
              "<Figure size 1800x360 with 8 Axes>"
            ]
          },
          "metadata": {
            "tags": []
          }
        }
      ]
    },
    {
      "cell_type": "code",
      "metadata": {
        "id": "nEFHcwuz2ErF",
        "colab_type": "code",
        "colab": {}
      },
      "source": [
        "x_train,x_test,y_train,y_test=train_test_split(x,y,test_size=0.2,random_state=42)\n",
        "le=LabelEncoder()\n",
        "y_train=le.fit_transform(y_train)\n",
        "y_test=le.transform(y_test)\n",
        "y_train=to_categorical(y_train,n_classes)\n",
        "y_test=to_categorical(y_test,n_classes)"
      ],
      "execution_count": 0,
      "outputs": []
    },
    {
      "cell_type": "code",
      "metadata": {
        "id": "5KtC5Bvd-cOU",
        "colab_type": "code",
        "outputId": "fcf9814e-7c8d-43df-f5ad-c1e6a69845fa",
        "colab": {
          "base_uri": "https://localhost:8080/",
          "height": 34
        }
      },
      "source": [
        "x_train.shape"
      ],
      "execution_count": 55,
      "outputs": [
        {
          "output_type": "execute_result",
          "data": {
            "text/plain": [
              "(73600, 1024)"
            ]
          },
          "metadata": {
            "tags": []
          },
          "execution_count": 55
        }
      ]
    },
    {
      "cell_type": "code",
      "metadata": {
        "id": "4Pket1wN9vmr",
        "colab_type": "code",
        "colab": {}
      },
      "source": [
        "im_shape=(img_height_rows,img_width_cols,1)\n",
        "x_train=x_train.reshape(x_train.shape[0],*im_shape)\n",
        "x_test=x_test.reshape(x_test.shape[0],*im_shape)"
      ],
      "execution_count": 0,
      "outputs": []
    },
    {
      "cell_type": "code",
      "metadata": {
        "id": "3hYbrR10-0ZT",
        "colab_type": "code",
        "colab": {}
      },
      "source": [
        "cnn = Sequential()"
      ],
      "execution_count": 0,
      "outputs": []
    },
    {
      "cell_type": "code",
      "metadata": {
        "id": "9pgD1SoCHYIt",
        "colab_type": "code",
        "colab": {
          "base_uri": "https://localhost:8080/",
          "height": 337
        },
        "outputId": "011317fb-f2a9-40ab-af36-300c1e8fe750"
      },
      "source": [
        "kernelSize=(3,3)\n",
        "ip_activation=\"relu\"\n",
        "ip_conv0=Conv2D(filters=32,kernel_size=kernelSize,input_shape=im_shape,activation=ip_activation)\n",
        "cnn.add(ip_conv_0)"
      ],
      "execution_count": 58,
      "outputs": [
        {
          "output_type": "error",
          "ename": "ValueError",
          "evalue": "ignored",
          "traceback": [
            "\u001b[0;31m---------------------------------------------------------------------------\u001b[0m",
            "\u001b[0;31mValueError\u001b[0m                                Traceback (most recent call last)",
            "\u001b[0;32m<ipython-input-58-ed5c4f9cf1c1>\u001b[0m in \u001b[0;36m<module>\u001b[0;34m()\u001b[0m\n\u001b[1;32m      2\u001b[0m \u001b[0mip_activation\u001b[0m\u001b[0;34m=\u001b[0m\u001b[0;34m\"relu\"\u001b[0m\u001b[0;34m\u001b[0m\u001b[0;34m\u001b[0m\u001b[0m\n\u001b[1;32m      3\u001b[0m \u001b[0mip_conv0\u001b[0m\u001b[0;34m=\u001b[0m\u001b[0mConv2D\u001b[0m\u001b[0;34m(\u001b[0m\u001b[0mfilters\u001b[0m\u001b[0;34m=\u001b[0m\u001b[0;36m32\u001b[0m\u001b[0;34m,\u001b[0m\u001b[0mkernel_size\u001b[0m\u001b[0;34m=\u001b[0m\u001b[0mkernelSize\u001b[0m\u001b[0;34m,\u001b[0m\u001b[0minput_shape\u001b[0m\u001b[0;34m=\u001b[0m\u001b[0mim_shape\u001b[0m\u001b[0;34m,\u001b[0m\u001b[0mactivation\u001b[0m\u001b[0;34m=\u001b[0m\u001b[0mip_activation\u001b[0m\u001b[0;34m)\u001b[0m\u001b[0;34m\u001b[0m\u001b[0;34m\u001b[0m\u001b[0m\n\u001b[0;32m----> 4\u001b[0;31m \u001b[0mcnn\u001b[0m\u001b[0;34m.\u001b[0m\u001b[0madd\u001b[0m\u001b[0;34m(\u001b[0m\u001b[0mip_conv_0\u001b[0m\u001b[0;34m)\u001b[0m\u001b[0;34m\u001b[0m\u001b[0;34m\u001b[0m\u001b[0m\n\u001b[0m",
            "\u001b[0;32m/usr/local/lib/python3.6/dist-packages/keras/engine/sequential.py\u001b[0m in \u001b[0;36madd\u001b[0;34m(self, layer)\u001b[0m\n\u001b[1;32m    163\u001b[0m                     \u001b[0;31m# and create the node connecting the current layer\u001b[0m\u001b[0;34m\u001b[0m\u001b[0;34m\u001b[0m\u001b[0;34m\u001b[0m\u001b[0m\n\u001b[1;32m    164\u001b[0m                     \u001b[0;31m# to the input layer we just created.\u001b[0m\u001b[0;34m\u001b[0m\u001b[0;34m\u001b[0m\u001b[0;34m\u001b[0m\u001b[0m\n\u001b[0;32m--> 165\u001b[0;31m                     \u001b[0mlayer\u001b[0m\u001b[0;34m(\u001b[0m\u001b[0mx\u001b[0m\u001b[0;34m)\u001b[0m\u001b[0;34m\u001b[0m\u001b[0;34m\u001b[0m\u001b[0m\n\u001b[0m\u001b[1;32m    166\u001b[0m                     \u001b[0mset_inputs\u001b[0m \u001b[0;34m=\u001b[0m \u001b[0;32mTrue\u001b[0m\u001b[0;34m\u001b[0m\u001b[0;34m\u001b[0m\u001b[0m\n\u001b[1;32m    167\u001b[0m             \u001b[0;32melse\u001b[0m\u001b[0;34m:\u001b[0m\u001b[0;34m\u001b[0m\u001b[0;34m\u001b[0m\u001b[0m\n",
            "\u001b[0;32m/usr/local/lib/python3.6/dist-packages/keras/engine/base_layer.py\u001b[0m in \u001b[0;36m__call__\u001b[0;34m(self, inputs, **kwargs)\u001b[0m\n\u001b[1;32m    438\u001b[0m             \u001b[0;31m# Raise exceptions in case the input is not compatible\u001b[0m\u001b[0;34m\u001b[0m\u001b[0;34m\u001b[0m\u001b[0;34m\u001b[0m\u001b[0m\n\u001b[1;32m    439\u001b[0m             \u001b[0;31m# with the input_spec set at build time.\u001b[0m\u001b[0;34m\u001b[0m\u001b[0;34m\u001b[0m\u001b[0;34m\u001b[0m\u001b[0m\n\u001b[0;32m--> 440\u001b[0;31m             \u001b[0mself\u001b[0m\u001b[0;34m.\u001b[0m\u001b[0massert_input_compatibility\u001b[0m\u001b[0;34m(\u001b[0m\u001b[0minputs\u001b[0m\u001b[0;34m)\u001b[0m\u001b[0;34m\u001b[0m\u001b[0;34m\u001b[0m\u001b[0m\n\u001b[0m\u001b[1;32m    441\u001b[0m \u001b[0;34m\u001b[0m\u001b[0m\n\u001b[1;32m    442\u001b[0m             \u001b[0;31m# Handle mask propagation.\u001b[0m\u001b[0;34m\u001b[0m\u001b[0;34m\u001b[0m\u001b[0;34m\u001b[0m\u001b[0m\n",
            "\u001b[0;32m/usr/local/lib/python3.6/dist-packages/keras/engine/base_layer.py\u001b[0m in \u001b[0;36massert_input_compatibility\u001b[0;34m(self, inputs)\u001b[0m\n\u001b[1;32m    350\u001b[0m                                 \u001b[0mstr\u001b[0m\u001b[0;34m(\u001b[0m\u001b[0maxis\u001b[0m\u001b[0;34m)\u001b[0m \u001b[0;34m+\u001b[0m \u001b[0;34m' of input shape to have '\u001b[0m\u001b[0;34m\u001b[0m\u001b[0;34m\u001b[0m\u001b[0m\n\u001b[1;32m    351\u001b[0m                                 \u001b[0;34m'value '\u001b[0m \u001b[0;34m+\u001b[0m \u001b[0mstr\u001b[0m\u001b[0;34m(\u001b[0m\u001b[0mvalue\u001b[0m\u001b[0;34m)\u001b[0m \u001b[0;34m+\u001b[0m\u001b[0;34m\u001b[0m\u001b[0;34m\u001b[0m\u001b[0m\n\u001b[0;32m--> 352\u001b[0;31m                                 ' but got shape ' + str(x_shape))\n\u001b[0m\u001b[1;32m    353\u001b[0m             \u001b[0;31m# Check shape.\u001b[0m\u001b[0;34m\u001b[0m\u001b[0;34m\u001b[0m\u001b[0;34m\u001b[0m\u001b[0m\n\u001b[1;32m    354\u001b[0m             \u001b[0;32mif\u001b[0m \u001b[0mspec\u001b[0m\u001b[0;34m.\u001b[0m\u001b[0mshape\u001b[0m \u001b[0;32mis\u001b[0m \u001b[0;32mnot\u001b[0m \u001b[0;32mNone\u001b[0m\u001b[0;34m:\u001b[0m\u001b[0;34m\u001b[0m\u001b[0;34m\u001b[0m\u001b[0m\n",
            "\u001b[0;31mValueError\u001b[0m: Input 0 is incompatible with layer conv2d_2: expected axis -1 of input shape to have value 32 but got shape (None, 32, 32, 1)"
          ]
        }
      ]
    },
    {
      "cell_type": "code",
      "metadata": {
        "id": "rAMaag-gIT3S",
        "colab_type": "code",
        "colab": {}
      },
      "source": [
        "ip_conv_0_1=Conv2D(filters=64,kernel_size=kernelSize,activation=ip_activation)\n",
        "cnn.add(ip_conv_0_1)"
      ],
      "execution_count": 0,
      "outputs": []
    },
    {
      "cell_type": "code",
      "metadata": {
        "id": "FWmLupqgJMFK",
        "colab_type": "code",
        "colab": {}
      },
      "source": [
        "pool_0=MaxPool2D(pool_size=(2,2),strides=(2,2),padding=\"same\")"
      ],
      "execution_count": 0,
      "outputs": []
    },
    {
      "cell_type": "code",
      "metadata": {
        "id": "cTZruhe0Jlrx",
        "colab_type": "code",
        "colab": {}
      },
      "source": [
        "cnn.add(pool_0)\n",
        "ip_conv_1=Conv2D(filters=64,kernel_size=kernelSize,activation=ip_activation)\n",
        "cnn.add(ip_conv_1)\n",
        "pool_1 = MaxPool2D(pool_size=(2, 2), strides=(2, 2), padding=\"same\")\n",
        "cnn.add(pool_1)"
      ],
      "execution_count": 0,
      "outputs": []
    },
    {
      "cell_type": "code",
      "metadata": {
        "id": "wtUmJXScKKf8",
        "colab_type": "code",
        "colab": {}
      },
      "source": [
        "drop_layer_0 = Dropout(0.2)\n",
        "cnn.add(drop_layer_0)"
      ],
      "execution_count": 0,
      "outputs": []
    },
    {
      "cell_type": "code",
      "metadata": {
        "id": "80ZChRiXKkBB",
        "colab_type": "code",
        "colab": {}
      },
      "source": [
        "flat_layer_0=Flatten()\n",
        "cnn.add(Flatten())"
      ],
      "execution_count": 0,
      "outputs": []
    },
    {
      "cell_type": "code",
      "metadata": {
        "id": "OX1njGjgKy9m",
        "colab_type": "code",
        "colab": {}
      },
      "source": [
        "h_dense_0=Dense(units=128,activation=ip_activation,kernel_initializer='uniform')\n",
        "cnn.add(h_dense_0)\n",
        "h_dense_1=Dense(units=64,activation=ip_activation,kernel_initializer='uniform')\n",
        "cnn.add(h_dense_1)"
      ],
      "execution_count": 0,
      "outputs": []
    },
    {
      "cell_type": "code",
      "metadata": {
        "id": "UHVWXxhHMn7O",
        "colab_type": "code",
        "colab": {}
      },
      "source": [
        "op_activation='softmax'\n",
        "output_layer=Dense(units=n_classes,activation=op_activation,kernel_initializer='uniform')\n",
        "cnn.add(output_layer)"
      ],
      "execution_count": 0,
      "outputs": []
    },
    {
      "cell_type": "code",
      "metadata": {
        "id": "R7H6uPV4M--G",
        "colab_type": "code",
        "colab": {}
      },
      "source": [
        "opt='adam'\n",
        "loss='categorical_crossentropy'\n",
        "metrics=['accuracy']\n",
        "cnn.compile(optimizer=opt, loss=loss, metrics=metrics)"
      ],
      "execution_count": 0,
      "outputs": []
    },
    {
      "cell_type": "markdown",
      "metadata": {
        "id": "re9h1TLKPPl2",
        "colab_type": "text"
      },
      "source": [
        "#Tensorboard"
      ]
    },
    {
      "cell_type": "code",
      "metadata": {
        "id": "4BLtSR2NQSW5",
        "colab_type": "code",
        "colab": {
          "base_uri": "https://localhost:8080/",
          "height": 235
        },
        "outputId": "a8fb4645-243d-4917-a28f-fb188cb2c58f"
      },
      "source": [
        "!wget https://bin.equinox.io/c/4VmDzA7iaHb/ngrok-stable-linux-amd64.zip\n",
        "!unzip ngrok-stable-linux-amd64.zip"
      ],
      "execution_count": 60,
      "outputs": [
        {
          "output_type": "stream",
          "text": [
            "--2019-06-25 06:28:56--  https://bin.equinox.io/c/4VmDzA7iaHb/ngrok-stable-linux-amd64.zip\n",
            "Resolving bin.equinox.io (bin.equinox.io)... 52.200.123.104, 52.200.233.201, 34.206.130.40, ...\n",
            "Connecting to bin.equinox.io (bin.equinox.io)|52.200.123.104|:443... connected.\n",
            "HTTP request sent, awaiting response... 200 OK\n",
            "Length: 17556757 (17M) [application/octet-stream]\n",
            "Saving to: ‘ngrok-stable-linux-amd64.zip’\n",
            "\n",
            "ngrok-stable-linux- 100%[===================>]  16.74M  6.57MB/s    in 2.5s    \n",
            "\n",
            "2019-06-25 06:29:00 (6.57 MB/s) - ‘ngrok-stable-linux-amd64.zip’ saved [17556757/17556757]\n",
            "\n",
            "Archive:  ngrok-stable-linux-amd64.zip\n",
            "  inflating: ngrok                   \n"
          ],
          "name": "stdout"
        }
      ]
    },
    {
      "cell_type": "code",
      "metadata": {
        "id": "UqmFD_e6QSEo",
        "colab_type": "code",
        "colab": {
          "base_uri": "https://localhost:8080/",
          "height": 67
        },
        "outputId": "348e640c-ab99-4817-8f3f-e39af2990065"
      },
      "source": [
        "import tensorboardcolab as tbc\n",
        "tboard = tbc.TensorBoardColab()\n",
        "from tensorboardcolab import TensorBoardColabCallback"
      ],
      "execution_count": 61,
      "outputs": [
        {
          "output_type": "stream",
          "text": [
            "Wait for 8 seconds...\n",
            "TensorBoard link:\n",
            "https://1f886a03.ngrok.io\n"
          ],
          "name": "stdout"
        }
      ]
    },
    {
      "cell_type": "code",
      "metadata": {
        "id": "AR6vsRrUQ6Fb",
        "colab_type": "code",
        "colab": {}
      },
      "source": [
        "get_ipython().system_raw('./ngrok http 6006 &')"
      ],
      "execution_count": 0,
      "outputs": []
    },
    {
      "cell_type": "code",
      "metadata": {
        "id": "4nKqNagWQ5sW",
        "colab_type": "code",
        "colab": {
          "base_uri": "https://localhost:8080/",
          "height": 34
        },
        "outputId": "53d7060b-4766-4345-ea72-ceedd870ac8e"
      },
      "source": [
        ""
      ],
      "execution_count": 41,
      "outputs": [
        {
          "output_type": "stream",
          "text": [
            "https://70b2e008.ngrok.io\n"
          ],
          "name": "stdout"
        }
      ]
    },
    {
      "cell_type": "code",
      "metadata": {
        "id": "XtwJQdK6NXO3",
        "colab_type": "code",
        "colab": {
          "base_uri": "https://localhost:8080/",
          "height": 370
        },
        "outputId": "144f8e1b-3888-4ed8-80c4-1ddd43a658e7"
      },
      "source": [
        "'''from keras.callbacks import TensorBoard\n",
        "tbCallBack = TensorBoard(log_dir='./log', histogram_freq=1,\n",
        "                         write_graph=True,\n",
        "                         write_grads=True,\n",
        "                         batch_size=32,\n",
        "                         write_images=True)'''\n",
        "history=cnn.fit(x_train,y_train,batch_size=32,epochs=10,verbose=1,validation_data=(x_test,y_test),callbacks=[TensorBoardColabCallback(tboard)])"
      ],
      "execution_count": 71,
      "outputs": [
        {
          "output_type": "stream",
          "text": [
            "Train on 73600 samples, validate on 18400 samples\n",
            "Epoch 1/10\n",
            "73600/73600 [==============================] - 34s 461us/step - loss: 0.6797 - acc: 0.7997 - val_loss: 0.2631 - val_acc: 0.9187\n",
            "Epoch 2/10\n",
            "73600/73600 [==============================] - 33s 445us/step - loss: 0.2014 - acc: 0.9372 - val_loss: 0.1906 - val_acc: 0.9403\n",
            "Epoch 3/10\n",
            "73600/73600 [==============================] - 33s 444us/step - loss: 0.1322 - acc: 0.9586 - val_loss: 0.1283 - val_acc: 0.9636\n",
            "Epoch 4/10\n",
            "73600/73600 [==============================] - 33s 446us/step - loss: 0.0963 - acc: 0.9701 - val_loss: 0.1291 - val_acc: 0.9633\n",
            "Epoch 5/10\n",
            "73600/73600 [==============================] - 33s 443us/step - loss: 0.0748 - acc: 0.9761 - val_loss: 0.1195 - val_acc: 0.9667\n",
            "Epoch 6/10\n",
            "73600/73600 [==============================] - 32s 439us/step - loss: 0.0593 - acc: 0.9806 - val_loss: 0.1126 - val_acc: 0.9691\n",
            "Epoch 7/10\n",
            "73600/73600 [==============================] - 32s 441us/step - loss: 0.0499 - acc: 0.9839 - val_loss: 0.1171 - val_acc: 0.9695\n",
            "Epoch 8/10\n",
            "73600/73600 [==============================] - 32s 438us/step - loss: 0.0426 - acc: 0.9859 - val_loss: 0.0978 - val_acc: 0.9751\n",
            "Epoch 9/10\n",
            "73600/73600 [==============================] - 32s 441us/step - loss: 0.0386 - acc: 0.9875 - val_loss: 0.0995 - val_acc: 0.9749\n",
            "Epoch 10/10\n",
            "73600/73600 [==============================] - 33s 442us/step - loss: 0.0339 - acc: 0.9888 - val_loss: 0.1272 - val_acc: 0.9690\n"
          ],
          "name": "stdout"
        }
      ]
    },
    {
      "cell_type": "code",
      "metadata": {
        "id": "nT6dQKg1N1cr",
        "colab_type": "code",
        "colab": {
          "base_uri": "https://localhost:8080/",
          "height": 34
        },
        "outputId": "6889965a-9300-4288-ecd1-45151f58b454"
      },
      "source": [
        "scores=cnn.evaluate(x_test,y_test,verbose=0)\n",
        "print(\"Accuracy:%.2f%%\" % (scores[1]*100))"
      ],
      "execution_count": 72,
      "outputs": [
        {
          "output_type": "stream",
          "text": [
            "Accuracy:96.90%\n"
          ],
          "name": "stdout"
        }
      ]
    },
    {
      "cell_type": "code",
      "metadata": {
        "id": "1QqaqA7MPrvJ",
        "colab_type": "code",
        "colab": {
          "base_uri": "https://localhost:8080/",
          "height": 312
        },
        "outputId": "21cb5687-5dae-41df-d97c-4112739986c6"
      },
      "source": [
        "print(history)\n",
        "fig1, ax_acc = plt.subplots()\n",
        "plt.plot(history.history['acc'])\n",
        "plt.plot(history.history['val_acc'])\n",
        "plt.xlabel('Epoch')\n",
        "plt.ylabel('Accuracy')\n",
        "plt.title('Model - Accuracy')\n",
        "plt.legend(['Training', 'Validation'], loc='lower right')\n",
        "plt.show()\n"
      ],
      "execution_count": 73,
      "outputs": [
        {
          "output_type": "stream",
          "text": [
            "<keras.callbacks.History object at 0x7fda7353d978>\n"
          ],
          "name": "stdout"
        },
        {
          "output_type": "display_data",
          "data": {
            "image/png": "[encoded data removed]",
            "text/plain": [
              "<Figure size 432x288 with 1 Axes>"
            ]
          },
          "metadata": {
            "tags": []
          }
        }
      ]
    },
    {
      "cell_type": "code",
      "metadata": {
        "id": "tZzP76JNPxub",
        "colab_type": "code",
        "colab": {}
      },
      "source": [
        ""
      ],
      "execution_count": 0,
      "outputs": []
    }
  ]
}