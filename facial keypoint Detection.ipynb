{
  "nbformat": 4,
  "nbformat_minor": 0,
  "metadata": {
    "colab": {
      "name": "Untitled3.ipynb",
      "version": "0.3.2",
      "provenance": [],
      "toc_visible": true,
      "include_colab_link": true
    },
    "kernelspec": {
      "name": "python3",
      "display_name": "Python 3"
    },
    "accelerator": "GPU"
  },
  "cells": [
    {
      "cell_type": "markdown",
      "metadata": {
        "id": "view-in-github",
        "colab_type": "text"
      },
      "source": [
        "<a href=\"https://colab.research.google.com/github/bhave068/Devanagiri-Recognizer/blob/master/facial%20keypoint%20Detection.ipynb\" target=\"_parent\"><img src=\"https://colab.research.google.com/assets/colab-badge.svg\" alt=\"Open In Colab\"/></a>"
      ]
    },
    {
      "cell_type": "code",
      "metadata": {
        "id": "8rwMmpTc5quA",
        "colab_type": "code",
        "outputId": "38c9e3d0-6c70-4222-8b89-504427bbde42",
        "colab": {
          "base_uri": "https://localhost:8080/",
          "height": 34
        }
      },
      "source": [
        "# Run this cell to mount your Google Drive.\n",
        "from google.colab import drive\n",
        "drive.mount('/content/drive')"
      ],
      "execution_count": 2,
      "outputs": [
        {
          "output_type": "stream",
          "text": [
            "Mounted at /content/drive\n"
          ],
          "name": "stdout"
        }
      ]
    },
    {
      "cell_type": "code",
      "metadata": {
        "id": "dpcwPJxsmA0h",
        "colab_type": "code",
        "colab": {}
      },
      "source": [
        "import numpy as np\n",
        "import matplotlib.pyplot as plt\n",
        "import pandas as pd\n",
        "from IPython.display import clear_output\n",
        "from time import sleep\n",
        "import os"
      ],
      "execution_count": 0,
      "outputs": []
    },
    {
      "cell_type": "code",
      "metadata": {
        "id": "b_mwHC5m46qw",
        "colab_type": "code",
        "colab": {}
      },
      "source": [
        "train_data=pd.read_csv(\"/content/drive/My Drive/Facial keypoint detection/training.csv\")\n",
        "test_data=pd.read_csv(\"/content/drive/My Drive/Facial keypoint detection/test.csv\")\n",
        "lookid_data=pd.read_csv(\"/content/drive/My Drive/Facial keypoint detection/IdLookupTable.csv\")"
      ],
      "execution_count": 0,
      "outputs": []
    },
    {
      "cell_type": "code",
      "metadata": {
        "id": "cLK9H6Uj5Z2H",
        "colab_type": "code",
        "outputId": "c8e5b3e1-9b37-4881-fbe3-8fa91e793a8d",
        "colab": {
          "base_uri": "https://localhost:8080/",
          "height": 998
        }
      },
      "source": [
        "train_data.head().T"
      ],
      "execution_count": 5,
      "outputs": [
        {
          "output_type": "execute_result",
          "data": {
            "text/html": [
              "<div>\n",
              "<style scoped>\n",
              "    .dataframe tbody tr th:only-of-type {\n",
              "        vertical-align: middle;\n",
              "    }\n",
              "\n",
              "    .dataframe tbody tr th {\n",
              "        vertical-align: top;\n",
              "    }\n",
              "\n",
              "    .dataframe thead th {\n",
              "        text-align: right;\n",
              "    }\n",
              "</style>\n",
              "<table border=\"1\" class=\"dataframe\">\n",
              "  <thead>\n",
              "    <tr style=\"text-align: right;\">\n",
              "      <th></th>\n",
              "      <th>0</th>\n",
              "      <th>1</th>\n",
              "      <th>2</th>\n",
              "      <th>3</th>\n",
              "      <th>4</th>\n",
              "    </tr>\n",
              "  </thead>\n",
              "  <tbody>\n",
              "    <tr>\n",
              "      <th>left_eye_center_x</th>\n",
              "      <td>66.0336</td>\n",
              "      <td>64.3329</td>\n",
              "      <td>65.0571</td>\n",
              "      <td>65.2257</td>\n",
              "      <td>66.7253</td>\n",
              "    </tr>\n",
              "    <tr>\n",
              "      <th>left_eye_center_y</th>\n",
              "      <td>39.0023</td>\n",
              "      <td>34.9701</td>\n",
              "      <td>34.9096</td>\n",
              "      <td>37.2618</td>\n",
              "      <td>39.6213</td>\n",
              "    </tr>\n",
              "    <tr>\n",
              "      <th>right_eye_center_x</th>\n",
              "      <td>30.227</td>\n",
              "      <td>29.9493</td>\n",
              "      <td>30.9038</td>\n",
              "      <td>32.0231</td>\n",
              "      <td>32.2448</td>\n",
              "    </tr>\n",
              "    <tr>\n",
              "      <th>right_eye_center_y</th>\n",
              "      <td>36.4217</td>\n",
              "      <td>33.4487</td>\n",
              "      <td>34.9096</td>\n",
              "      <td>37.2618</td>\n",
              "      <td>38.042</td>\n",
              "    </tr>\n",
              "    <tr>\n",
              "      <th>left_eye_inner_corner_x</th>\n",
              "      <td>59.5821</td>\n",
              "      <td>58.8562</td>\n",
              "      <td>59.412</td>\n",
              "      <td>60.0033</td>\n",
              "      <td>58.5659</td>\n",
              "    </tr>\n",
              "    <tr>\n",
              "      <th>left_eye_inner_corner_y</th>\n",
              "      <td>39.6474</td>\n",
              "      <td>35.2743</td>\n",
              "      <td>36.321</td>\n",
              "      <td>39.1272</td>\n",
              "      <td>39.6213</td>\n",
              "    </tr>\n",
              "    <tr>\n",
              "      <th>left_eye_outer_corner_x</th>\n",
              "      <td>73.1303</td>\n",
              "      <td>70.7227</td>\n",
              "      <td>70.9844</td>\n",
              "      <td>72.3147</td>\n",
              "      <td>72.5159</td>\n",
              "    </tr>\n",
              "    <tr>\n",
              "      <th>left_eye_outer_corner_y</th>\n",
              "      <td>39.97</td>\n",
              "      <td>36.1872</td>\n",
              "      <td>36.321</td>\n",
              "      <td>38.381</td>\n",
              "      <td>39.8845</td>\n",
              "    </tr>\n",
              "    <tr>\n",
              "      <th>right_eye_inner_corner_x</th>\n",
              "      <td>36.3566</td>\n",
              "      <td>36.0347</td>\n",
              "      <td>37.6781</td>\n",
              "      <td>37.6186</td>\n",
              "      <td>36.9824</td>\n",
              "    </tr>\n",
              "    <tr>\n",
              "      <th>right_eye_inner_corner_y</th>\n",
              "      <td>37.3894</td>\n",
              "      <td>34.3615</td>\n",
              "      <td>36.321</td>\n",
              "      <td>38.7541</td>\n",
              "      <td>39.0949</td>\n",
              "    </tr>\n",
              "    <tr>\n",
              "      <th>right_eye_outer_corner_x</th>\n",
              "      <td>23.4529</td>\n",
              "      <td>24.4725</td>\n",
              "      <td>24.9764</td>\n",
              "      <td>25.3073</td>\n",
              "      <td>22.5061</td>\n",
              "    </tr>\n",
              "    <tr>\n",
              "      <th>right_eye_outer_corner_y</th>\n",
              "      <td>37.3894</td>\n",
              "      <td>33.1444</td>\n",
              "      <td>36.6032</td>\n",
              "      <td>38.0079</td>\n",
              "      <td>38.3052</td>\n",
              "    </tr>\n",
              "    <tr>\n",
              "      <th>left_eyebrow_inner_end_x</th>\n",
              "      <td>56.9533</td>\n",
              "      <td>53.9874</td>\n",
              "      <td>55.7425</td>\n",
              "      <td>56.4338</td>\n",
              "      <td>57.2496</td>\n",
              "    </tr>\n",
              "    <tr>\n",
              "      <th>left_eyebrow_inner_end_y</th>\n",
              "      <td>29.0336</td>\n",
              "      <td>28.2759</td>\n",
              "      <td>27.5709</td>\n",
              "      <td>30.9299</td>\n",
              "      <td>30.6722</td>\n",
              "    </tr>\n",
              "    <tr>\n",
              "      <th>left_eyebrow_outer_end_x</th>\n",
              "      <td>80.2271</td>\n",
              "      <td>78.6342</td>\n",
              "      <td>78.8874</td>\n",
              "      <td>77.9103</td>\n",
              "      <td>77.7629</td>\n",
              "    </tr>\n",
              "    <tr>\n",
              "      <th>left_eyebrow_outer_end_y</th>\n",
              "      <td>32.2281</td>\n",
              "      <td>30.4059</td>\n",
              "      <td>32.6516</td>\n",
              "      <td>31.6657</td>\n",
              "      <td>31.7372</td>\n",
              "    </tr>\n",
              "    <tr>\n",
              "      <th>right_eyebrow_inner_end_x</th>\n",
              "      <td>40.2276</td>\n",
              "      <td>42.7289</td>\n",
              "      <td>42.1939</td>\n",
              "      <td>41.6715</td>\n",
              "      <td>38.0354</td>\n",
              "    </tr>\n",
              "    <tr>\n",
              "      <th>right_eyebrow_inner_end_y</th>\n",
              "      <td>29.0023</td>\n",
              "      <td>26.146</td>\n",
              "      <td>28.1355</td>\n",
              "      <td>31.05</td>\n",
              "      <td>30.9354</td>\n",
              "    </tr>\n",
              "    <tr>\n",
              "      <th>right_eyebrow_outer_end_x</th>\n",
              "      <td>16.3564</td>\n",
              "      <td>16.8654</td>\n",
              "      <td>16.7912</td>\n",
              "      <td>20.458</td>\n",
              "      <td>15.9259</td>\n",
              "    </tr>\n",
              "    <tr>\n",
              "      <th>right_eyebrow_outer_end_y</th>\n",
              "      <td>29.6475</td>\n",
              "      <td>27.0589</td>\n",
              "      <td>32.0871</td>\n",
              "      <td>29.9093</td>\n",
              "      <td>30.6722</td>\n",
              "    </tr>\n",
              "    <tr>\n",
              "      <th>nose_tip_x</th>\n",
              "      <td>44.4206</td>\n",
              "      <td>48.2063</td>\n",
              "      <td>47.5573</td>\n",
              "      <td>51.8851</td>\n",
              "      <td>43.2995</td>\n",
              "    </tr>\n",
              "    <tr>\n",
              "      <th>nose_tip_y</th>\n",
              "      <td>57.0668</td>\n",
              "      <td>55.6609</td>\n",
              "      <td>53.5389</td>\n",
              "      <td>54.1665</td>\n",
              "      <td>64.8895</td>\n",
              "    </tr>\n",
              "    <tr>\n",
              "      <th>mouth_left_corner_x</th>\n",
              "      <td>61.1953</td>\n",
              "      <td>56.4214</td>\n",
              "      <td>60.8229</td>\n",
              "      <td>65.5989</td>\n",
              "      <td>60.6714</td>\n",
              "    </tr>\n",
              "    <tr>\n",
              "      <th>mouth_left_corner_y</th>\n",
              "      <td>79.9702</td>\n",
              "      <td>76.352</td>\n",
              "      <td>73.0143</td>\n",
              "      <td>72.7037</td>\n",
              "      <td>77.5232</td>\n",
              "    </tr>\n",
              "    <tr>\n",
              "      <th>mouth_right_corner_x</th>\n",
              "      <td>28.6145</td>\n",
              "      <td>35.1224</td>\n",
              "      <td>33.7263</td>\n",
              "      <td>37.2455</td>\n",
              "      <td>31.1918</td>\n",
              "    </tr>\n",
              "    <tr>\n",
              "      <th>mouth_right_corner_y</th>\n",
              "      <td>77.389</td>\n",
              "      <td>76.0477</td>\n",
              "      <td>72.732</td>\n",
              "      <td>74.1955</td>\n",
              "      <td>76.9973</td>\n",
              "    </tr>\n",
              "    <tr>\n",
              "      <th>mouth_center_top_lip_x</th>\n",
              "      <td>43.3126</td>\n",
              "      <td>46.6846</td>\n",
              "      <td>47.2749</td>\n",
              "      <td>50.3032</td>\n",
              "      <td>44.9627</td>\n",
              "    </tr>\n",
              "    <tr>\n",
              "      <th>mouth_center_top_lip_y</th>\n",
              "      <td>72.9355</td>\n",
              "      <td>70.2666</td>\n",
              "      <td>70.1918</td>\n",
              "      <td>70.0917</td>\n",
              "      <td>73.7074</td>\n",
              "    </tr>\n",
              "    <tr>\n",
              "      <th>mouth_center_bottom_lip_x</th>\n",
              "      <td>43.1307</td>\n",
              "      <td>45.4679</td>\n",
              "      <td>47.2749</td>\n",
              "      <td>51.5612</td>\n",
              "      <td>44.2271</td>\n",
              "    </tr>\n",
              "    <tr>\n",
              "      <th>mouth_center_bottom_lip_y</th>\n",
              "      <td>84.4858</td>\n",
              "      <td>85.4802</td>\n",
              "      <td>78.6594</td>\n",
              "      <td>78.2684</td>\n",
              "      <td>86.8712</td>\n",
              "    </tr>\n",
              "    <tr>\n",
              "      <th>Image</th>\n",
              "      <td>238 236 237 238 240 240 239 241 241 243 240 23...</td>\n",
              "      <td>219 215 204 196 204 211 212 200 180 168 178 19...</td>\n",
              "      <td>144 142 159 180 188 188 184 180 167 132 84 59 ...</td>\n",
              "      <td>193 192 193 194 194 194 193 192 168 111 50 12 ...</td>\n",
              "      <td>147 148 160 196 215 214 216 217 219 220 206 18...</td>\n",
              "    </tr>\n",
              "  </tbody>\n",
              "</table>\n",
              "</div>"
            ],
            "text/plain": [
              "                                                                           0  ...                                                  4\n",
              "left_eye_center_x                                                    66.0336  ...                                            66.7253\n",
              "left_eye_center_y                                                    39.0023  ...                                            39.6213\n",
              "right_eye_center_x                                                    30.227  ...                                            32.2448\n",
              "right_eye_center_y                                                   36.4217  ...                                             38.042\n",
              "left_eye_inner_corner_x                                              59.5821  ...                                            58.5659\n",
              "left_eye_inner_corner_y                                              39.6474  ...                                            39.6213\n",
              "left_eye_outer_corner_x                                              73.1303  ...                                            72.5159\n",
              "left_eye_outer_corner_y                                                39.97  ...                                            39.8845\n",
              "right_eye_inner_corner_x                                             36.3566  ...                                            36.9824\n",
              "right_eye_inner_corner_y                                             37.3894  ...                                            39.0949\n",
              "right_eye_outer_corner_x                                             23.4529  ...                                            22.5061\n",
              "right_eye_outer_corner_y                                             37.3894  ...                                            38.3052\n",
              "left_eyebrow_inner_end_x                                             56.9533  ...                                            57.2496\n",
              "left_eyebrow_inner_end_y                                             29.0336  ...                                            30.6722\n",
              "left_eyebrow_outer_end_x                                             80.2271  ...                                            77.7629\n",
              "left_eyebrow_outer_end_y                                             32.2281  ...                                            31.7372\n",
              "right_eyebrow_inner_end_x                                            40.2276  ...                                            38.0354\n",
              "right_eyebrow_inner_end_y                                            29.0023  ...                                            30.9354\n",
              "right_eyebrow_outer_end_x                                            16.3564  ...                                            15.9259\n",
              "right_eyebrow_outer_end_y                                            29.6475  ...                                            30.6722\n",
              "nose_tip_x                                                           44.4206  ...                                            43.2995\n",
              "nose_tip_y                                                           57.0668  ...                                            64.8895\n",
              "mouth_left_corner_x                                                  61.1953  ...                                            60.6714\n",
              "mouth_left_corner_y                                                  79.9702  ...                                            77.5232\n",
              "mouth_right_corner_x                                                 28.6145  ...                                            31.1918\n",
              "mouth_right_corner_y                                                  77.389  ...                                            76.9973\n",
              "mouth_center_top_lip_x                                               43.3126  ...                                            44.9627\n",
              "mouth_center_top_lip_y                                               72.9355  ...                                            73.7074\n",
              "mouth_center_bottom_lip_x                                            43.1307  ...                                            44.2271\n",
              "mouth_center_bottom_lip_y                                            84.4858  ...                                            86.8712\n",
              "Image                      238 236 237 238 240 240 239 241 241 243 240 23...  ...  147 148 160 196 215 214 216 217 219 220 206 18...\n",
              "\n",
              "[31 rows x 5 columns]"
            ]
          },
          "metadata": {
            "tags": []
          },
          "execution_count": 5
        }
      ]
    },
    {
      "cell_type": "code",
      "metadata": {
        "id": "cuRspc2X5lKk",
        "colab_type": "code",
        "outputId": "86389b85-5baa-4b3e-9ff0-4f30e4f28cce",
        "colab": {
          "base_uri": "https://localhost:8080/",
          "height": 67
        }
      },
      "source": [
        "train_data.isnull().any().value_counts()"
      ],
      "execution_count": 6,
      "outputs": [
        {
          "output_type": "execute_result",
          "data": {
            "text/plain": [
              "True     28\n",
              "False     3\n",
              "dtype: int64"
            ]
          },
          "metadata": {
            "tags": []
          },
          "execution_count": 6
        }
      ]
    },
    {
      "cell_type": "code",
      "metadata": {
        "id": "-MYvY9k458Sw",
        "colab_type": "code",
        "colab": {}
      },
      "source": [
        "train_data.fillna(method='ffill',inplace=True)"
      ],
      "execution_count": 0,
      "outputs": []
    },
    {
      "cell_type": "code",
      "metadata": {
        "id": "f1hUDzod-vna",
        "colab_type": "code",
        "outputId": "ebbc7b5a-7478-4f68-d69a-e02c8f0d189a",
        "colab": {
          "base_uri": "https://localhost:8080/",
          "height": 50
        }
      },
      "source": [
        "train_data.isnull().any().value_counts()"
      ],
      "execution_count": 8,
      "outputs": [
        {
          "output_type": "execute_result",
          "data": {
            "text/plain": [
              "False    31\n",
              "dtype: int64"
            ]
          },
          "metadata": {
            "tags": []
          },
          "execution_count": 8
        }
      ]
    },
    {
      "cell_type": "code",
      "metadata": {
        "id": "Vpk1ZT4s-1_E",
        "colab_type": "code",
        "outputId": "aff97fb4-91eb-4249-d422-f856ed0c94c3",
        "colab": {
          "base_uri": "https://localhost:8080/",
          "height": 34
        }
      },
      "source": [
        "train_data.shape"
      ],
      "execution_count": 9,
      "outputs": [
        {
          "output_type": "execute_result",
          "data": {
            "text/plain": [
              "(7049, 31)"
            ]
          },
          "metadata": {
            "tags": []
          },
          "execution_count": 9
        }
      ]
    },
    {
      "cell_type": "code",
      "metadata": {
        "id": "WbqVx6ex-8LO",
        "colab_type": "code",
        "colab": {}
      },
      "source": [
        "imag=[];\n",
        "for i in range(0,7049):\n",
        "  img=train_data['Image'][i].split(' ')\n",
        "  img=['0' if x==''else x for x in img]\n",
        "  imag.append(img)"
      ],
      "execution_count": 0,
      "outputs": []
    },
    {
      "cell_type": "code",
      "metadata": {
        "id": "W6Ylko3-_1ZM",
        "colab_type": "code",
        "colab": {}
      },
      "source": [
        "image_list = np.array(imag,dtype = 'uint8')\n",
        "X_train = image_list.reshape(-1,96,96,1)"
      ],
      "execution_count": 0,
      "outputs": []
    },
    {
      "cell_type": "code",
      "metadata": {
        "id": "b9UVi334EiBe",
        "colab_type": "code",
        "colab": {}
      },
      "source": [
        "del imag"
      ],
      "execution_count": 0,
      "outputs": []
    },
    {
      "cell_type": "code",
      "metadata": {
        "id": "Mtb2eLT9EoJm",
        "colab_type": "code",
        "colab": {
          "base_uri": "https://localhost:8080/",
          "height": 286
        },
        "outputId": "7e555113-b3f5-4069-e8c4-1956e69c3b26"
      },
      "source": [
        "plt.imshow(X_train[5].reshape(96,96),cmap='gray')"
      ],
      "execution_count": 14,
      "outputs": [
        {
          "output_type": "execute_result",
          "data": {
            "text/plain": [
              "<matplotlib.image.AxesImage at 0x7f675d568ac8>"
            ]
          },
          "metadata": {
            "tags": []
          },
          "execution_count": 14
        },
        {
          "output_type": "display_data",
          "data": {
            "image/png": "[encoded data removed]",
            "text/plain": [
              "<Figure size 432x288 with 1 Axes>"
            ]
          },
          "metadata": {
            "tags": []
          }
        }
      ]
    },
    {
      "cell_type": "code",
      "metadata": {
        "id": "u52_PuZR0Dgf",
        "colab_type": "code",
        "colab": {}
      },
      "source": [
        "training=train_data.drop('Image',axis=1)\n",
        "y_train = []\n",
        "for i in range(0,7049):\n",
        "    y = training.iloc[i,:]\n",
        "    y_train.append(y)\n",
        "y_train=np.array(y_train,dtype='uint8')"
      ],
      "execution_count": 0,
      "outputs": []
    },
    {
      "cell_type": "code",
      "metadata": {
        "id": "i5nr3GkH1zyS",
        "colab_type": "code",
        "colab": {
          "base_uri": "https://localhost:8080/",
          "height": 34
        },
        "outputId": "0244f036-df5d-4d9e-c056-7994c987bf10"
      },
      "source": [
        "y_train.shape"
      ],
      "execution_count": 20,
      "outputs": [
        {
          "output_type": "execute_result",
          "data": {
            "text/plain": [
              "(7049, 30)"
            ]
          },
          "metadata": {
            "tags": []
          },
          "execution_count": 20
        }
      ]
    },
    {
      "cell_type": "code",
      "metadata": {
        "id": "V5FiG8lX1wSH",
        "colab_type": "code",
        "colab": {
          "base_uri": "https://localhost:8080/",
          "height": 34
        },
        "outputId": "204ced66-68bd-4f7f-9a87-9ddea654dc3d"
      },
      "source": [
        "X_train.shape"
      ],
      "execution_count": 19,
      "outputs": [
        {
          "output_type": "execute_result",
          "data": {
            "text/plain": [
              "(7049, 96, 96, 1)"
            ]
          },
          "metadata": {
            "tags": []
          },
          "execution_count": 19
        }
      ]
    },
    {
      "cell_type": "code",
      "metadata": {
        "id": "0i4HxZro1PXG",
        "colab_type": "code",
        "colab": {}
      },
      "source": [
        "from keras.layers import Conv2D,Dropout,Dense,Flatten\n",
        "from keras.models import Sequential"
      ],
      "execution_count": 0,
      "outputs": []
    },
    {
      "cell_type": "code",
      "metadata": {
        "id": "zIquM0Y13DCY",
        "colab_type": "code",
        "colab": {}
      },
      "source": [
        "from keras.layers.advanced_activations import LeakyReLU\n",
        "from keras.models import Sequential, Model\n",
        "from keras.layers import Activation, Convolution2D, MaxPooling2D, BatchNormalization, Flatten, Dense, Dropout, Conv2D,MaxPool2D, ZeroPadding2D"
      ],
      "execution_count": 0,
      "outputs": []
    },
    {
      "cell_type": "code",
      "metadata": {
        "id": "H6GTn0VT30gT",
        "colab_type": "code",
        "colab": {}
      },
      "source": [
        "model=Sequential()"
      ],
      "execution_count": 0,
      "outputs": []
    },
    {
      "cell_type": "code",
      "metadata": {
        "id": "nTc0tUsQ4fOY",
        "colab_type": "code",
        "colab": {}
      },
      "source": [
        "model.add(Convolution2D(32,(3,3),padding='same',use_bias=False,input_shape=(96,96,1)))"
      ],
      "execution_count": 0,
      "outputs": []
    },
    {
      "cell_type": "code",
      "metadata": {
        "id": "jej7TN626Zvr",
        "colab_type": "code",
        "colab": {}
      },
      "source": [
        "model.add(LeakyReLU(alpha=0.1))\n",
        "model.add(BatchNormalization())\n",
        "model.add(MaxPool2D(pool_size=(2,2)))"
      ],
      "execution_count": 0,
      "outputs": []
    },
    {
      "cell_type": "code",
      "metadata": {
        "id": "vj2A-QFO6yYG",
        "colab_type": "code",
        "colab": {}
      },
      "source": [
        "model.add(Convolution2D(64, (3,3), padding='same', use_bias=False))\n",
        "model.add(LeakyReLU(alpha = 0.1))\n",
        "model.add(BatchNormalization())"
      ],
      "execution_count": 0,
      "outputs": []
    },
    {
      "cell_type": "code",
      "metadata": {
        "id": "ElHm7s8z68_b",
        "colab_type": "code",
        "colab": {}
      },
      "source": [
        "model.add(Convolution2D(64, (3,3), padding='same', use_bias=False))\n",
        "model.add(LeakyReLU(alpha = 0.1))\n",
        "model.add(BatchNormalization())\n",
        "model.add(MaxPool2D(pool_size=(2, 2)))"
      ],
      "execution_count": 0,
      "outputs": []
    },
    {
      "cell_type": "code",
      "metadata": {
        "id": "if9r1M0p7BAN",
        "colab_type": "code",
        "colab": {}
      },
      "source": [
        "model.add(Convolution2D(96, (3,3), padding='same', use_bias=False))\n",
        "model.add(LeakyReLU(alpha = 0.1))\n",
        "model.add(BatchNormalization())"
      ],
      "execution_count": 0,
      "outputs": []
    },
    {
      "cell_type": "code",
      "metadata": {
        "id": "WQm5V6Xs7DMW",
        "colab_type": "code",
        "colab": {}
      },
      "source": [
        "model.add(Convolution2D(96, (3,3), padding='same', use_bias=False))\n",
        "model.add(LeakyReLU(alpha = 0.1))\n",
        "model.add(BatchNormalization())\n",
        "model.add(MaxPool2D(pool_size=(2, 2)))"
      ],
      "execution_count": 0,
      "outputs": []
    },
    {
      "cell_type": "code",
      "metadata": {
        "id": "uWJNbfRm7GJE",
        "colab_type": "code",
        "colab": {}
      },
      "source": [
        "model.add(Convolution2D(128, (3,3),padding='same', use_bias=False))\n",
        "# model.add(BatchNormalization())\n",
        "model.add(LeakyReLU(alpha = 0.1))\n",
        "model.add(BatchNormalization())"
      ],
      "execution_count": 0,
      "outputs": []
    },
    {
      "cell_type": "code",
      "metadata": {
        "id": "W5zZYLu37JBz",
        "colab_type": "code",
        "colab": {}
      },
      "source": [
        "model.add(Convolution2D(256, (3,3),padding='same',use_bias=False))\n",
        "model.add(LeakyReLU(alpha = 0.1))\n",
        "model.add(BatchNormalization())\n"
      ],
      "execution_count": 0,
      "outputs": []
    },
    {
      "cell_type": "code",
      "metadata": {
        "id": "8b18XadS7MI1",
        "colab_type": "code",
        "colab": {}
      },
      "source": [
        "model.add(Convolution2D(256, (3,3),padding='same',use_bias=False))\n",
        "model.add(LeakyReLU(alpha = 0.1))\n",
        "model.add(BatchNormalization())\n",
        "model.add(MaxPool2D(pool_size=(2, 2)))"
      ],
      "execution_count": 0,
      "outputs": []
    },
    {
      "cell_type": "code",
      "metadata": {
        "id": "f7gfxC1w7P3r",
        "colab_type": "code",
        "colab": {}
      },
      "source": [
        "model.add(Convolution2D(512, (3,3), padding='same', use_bias=False))\n",
        "model.add(LeakyReLU(alpha = 0.1))\n",
        "model.add(BatchNormalization())"
      ],
      "execution_count": 0,
      "outputs": []
    },
    {
      "cell_type": "code",
      "metadata": {
        "id": "E1WepX0A7Vw1",
        "colab_type": "code",
        "colab": {}
      },
      "source": [
        "model.add(Convolution2D(512, (3,3), padding='same', use_bias=False))\n",
        "model.add(LeakyReLU(alpha = 0.1))\n",
        "model.add(BatchNormalization())"
      ],
      "execution_count": 0,
      "outputs": []
    },
    {
      "cell_type": "code",
      "metadata": {
        "id": "Gcn12FCe7YKy",
        "colab_type": "code",
        "colab": {}
      },
      "source": [
        "model.add(Flatten())"
      ],
      "execution_count": 0,
      "outputs": []
    },
    {
      "cell_type": "code",
      "metadata": {
        "id": "ScYOfYol7anR",
        "colab_type": "code",
        "colab": {}
      },
      "source": [
        "model.add(Dense(512,activation='relu'))"
      ],
      "execution_count": 0,
      "outputs": []
    },
    {
      "cell_type": "code",
      "metadata": {
        "id": "j58Co3So7dqA",
        "colab_type": "code",
        "colab": {}
      },
      "source": [
        "model.add(Dropout(0.1))"
      ],
      "execution_count": 0,
      "outputs": []
    },
    {
      "cell_type": "code",
      "metadata": {
        "id": "FwUm1XDs7fwG",
        "colab_type": "code",
        "colab": {}
      },
      "source": [
        "model.add(Dense(30))"
      ],
      "execution_count": 0,
      "outputs": []
    },
    {
      "cell_type": "code",
      "metadata": {
        "id": "PepYf6Zm7ic4",
        "colab_type": "code",
        "colab": {
          "base_uri": "https://localhost:8080/",
          "height": 1000
        },
        "outputId": "61136991-9abe-4c97-c282-e0f5d19b4c28"
      },
      "source": [
        "model.summary()"
      ],
      "execution_count": 45,
      "outputs": [
        {
          "output_type": "stream",
          "text": [
            "_________________________________________________________________\n",
            "Layer (type)                 Output Shape              Param #   \n",
            "=================================================================\n",
            "conv2d_13 (Conv2D)           (None, 96, 96, 32)        288       \n",
            "_________________________________________________________________\n",
            "leaky_re_lu_13 (LeakyReLU)   (None, 96, 96, 32)        0         \n",
            "_________________________________________________________________\n",
            "batch_normalization_13 (Batc (None, 96, 96, 32)        128       \n",
            "_________________________________________________________________\n",
            "max_pooling2d_6 (MaxPooling2 (None, 48, 48, 32)        0         \n",
            "_________________________________________________________________\n",
            "conv2d_14 (Conv2D)           (None, 48, 48, 64)        18432     \n",
            "_________________________________________________________________\n",
            "leaky_re_lu_14 (LeakyReLU)   (None, 48, 48, 64)        0         \n",
            "_________________________________________________________________\n",
            "batch_normalization_14 (Batc (None, 48, 48, 64)        256       \n",
            "_________________________________________________________________\n",
            "conv2d_15 (Conv2D)           (None, 48, 48, 64)        36864     \n",
            "_________________________________________________________________\n",
            "leaky_re_lu_15 (LeakyReLU)   (None, 48, 48, 64)        0         \n",
            "_________________________________________________________________\n",
            "batch_normalization_15 (Batc (None, 48, 48, 64)        256       \n",
            "_________________________________________________________________\n",
            "max_pooling2d_7 (MaxPooling2 (None, 24, 24, 64)        0         \n",
            "_________________________________________________________________\n",
            "conv2d_16 (Conv2D)           (None, 24, 24, 96)        55296     \n",
            "_________________________________________________________________\n",
            "leaky_re_lu_16 (LeakyReLU)   (None, 24, 24, 96)        0         \n",
            "_________________________________________________________________\n",
            "batch_normalization_16 (Batc (None, 24, 24, 96)        384       \n",
            "_________________________________________________________________\n",
            "conv2d_17 (Conv2D)           (None, 24, 24, 96)        82944     \n",
            "_________________________________________________________________\n",
            "leaky_re_lu_17 (LeakyReLU)   (None, 24, 24, 96)        0         \n",
            "_________________________________________________________________\n",
            "batch_normalization_17 (Batc (None, 24, 24, 96)        384       \n",
            "_________________________________________________________________\n",
            "max_pooling2d_8 (MaxPooling2 (None, 12, 12, 96)        0         \n",
            "_________________________________________________________________\n",
            "conv2d_18 (Conv2D)           (None, 12, 12, 128)       110592    \n",
            "_________________________________________________________________\n",
            "leaky_re_lu_18 (LeakyReLU)   (None, 12, 12, 128)       0         \n",
            "_________________________________________________________________\n",
            "batch_normalization_18 (Batc (None, 12, 12, 128)       512       \n",
            "_________________________________________________________________\n",
            "conv2d_19 (Conv2D)           (None, 12, 12, 256)       294912    \n",
            "_________________________________________________________________\n",
            "leaky_re_lu_19 (LeakyReLU)   (None, 12, 12, 256)       0         \n",
            "_________________________________________________________________\n",
            "batch_normalization_19 (Batc (None, 12, 12, 256)       1024      \n",
            "_________________________________________________________________\n",
            "conv2d_20 (Conv2D)           (None, 12, 12, 256)       589824    \n",
            "_________________________________________________________________\n",
            "leaky_re_lu_20 (LeakyReLU)   (None, 12, 12, 256)       0         \n",
            "_________________________________________________________________\n",
            "batch_normalization_20 (Batc (None, 12, 12, 256)       1024      \n",
            "_________________________________________________________________\n",
            "max_pooling2d_9 (MaxPooling2 (None, 6, 6, 256)         0         \n",
            "_________________________________________________________________\n",
            "conv2d_21 (Conv2D)           (None, 6, 6, 512)         1179648   \n",
            "_________________________________________________________________\n",
            "leaky_re_lu_21 (LeakyReLU)   (None, 6, 6, 512)         0         \n",
            "_________________________________________________________________\n",
            "batch_normalization_21 (Batc (None, 6, 6, 512)         2048      \n",
            "_________________________________________________________________\n",
            "conv2d_22 (Conv2D)           (None, 6, 6, 512)         2359296   \n",
            "_________________________________________________________________\n",
            "leaky_re_lu_22 (LeakyReLU)   (None, 6, 6, 512)         0         \n",
            "_________________________________________________________________\n",
            "batch_normalization_22 (Batc (None, 6, 6, 512)         2048      \n",
            "_________________________________________________________________\n",
            "flatten_3 (Flatten)          (None, 18432)             0         \n",
            "_________________________________________________________________\n",
            "dense_6 (Dense)              (None, 512)               9437696   \n",
            "_________________________________________________________________\n",
            "dropout_3 (Dropout)          (None, 512)               0         \n",
            "_________________________________________________________________\n",
            "dense_7 (Dense)              (None, 30)                15390     \n",
            "=================================================================\n",
            "Total params: 14,189,246\n",
            "Trainable params: 14,185,214\n",
            "Non-trainable params: 4,032\n",
            "_________________________________________________________________\n"
          ],
          "name": "stdout"
        }
      ]
    },
    {
      "cell_type": "code",
      "metadata": {
        "id": "7rtyCnyL7k18",
        "colab_type": "code",
        "colab": {}
      },
      "source": [
        "model.compile(optimizer='adam',loss='mean_squared_error',metrics=['accuracy'])"
      ],
      "execution_count": 0,
      "outputs": []
    },
    {
      "cell_type": "code",
      "metadata": {
        "id": "77pfBkQC8g-q",
        "colab_type": "code",
        "colab": {
          "base_uri": "https://localhost:8080/",
          "height": 1000
        },
        "outputId": "827fc05c-58fa-4c70-f10d-a05c0d0d3cf6"
      },
      "source": [
        "model.fit(X_train,y_train,epochs=50,batch_size=256,validation_split=0.2)"
      ],
      "execution_count": 48,
      "outputs": [
        {
          "output_type": "stream",
          "text": [
            "Train on 5639 samples, validate on 1410 samples\n",
            "Epoch 1/50\n",
            "5639/5639 [==============================] - 23s 4ms/step - loss: 298.8848 - acc: 0.2417 - val_loss: 162.3867 - val_acc: 0.2631\n",
            "Epoch 2/50\n",
            "5639/5639 [==============================] - 12s 2ms/step - loss: 41.7286 - acc: 0.3444 - val_loss: 42.5435 - val_acc: 0.3369\n",
            "Epoch 3/50\n",
            "5639/5639 [==============================] - 12s 2ms/step - loss: 29.4387 - acc: 0.3949 - val_loss: 17.1955 - val_acc: 0.5681\n",
            "Epoch 4/50\n",
            "5639/5639 [==============================] - 12s 2ms/step - loss: 25.7703 - acc: 0.4378 - val_loss: 15.2316 - val_acc: 0.6227\n",
            "Epoch 5/50\n",
            "5639/5639 [==============================] - 12s 2ms/step - loss: 26.1823 - acc: 0.4683 - val_loss: 13.4710 - val_acc: 0.4901\n",
            "Epoch 6/50\n",
            "5639/5639 [==============================] - 12s 2ms/step - loss: 22.6747 - acc: 0.4604 - val_loss: 12.1310 - val_acc: 0.7028\n",
            "Epoch 7/50\n",
            "5639/5639 [==============================] - 12s 2ms/step - loss: 21.5411 - acc: 0.4971 - val_loss: 22.8460 - val_acc: 0.5206\n",
            "Epoch 8/50\n",
            "5639/5639 [==============================] - 12s 2ms/step - loss: 26.0542 - acc: 0.4967 - val_loss: 10.3979 - val_acc: 0.6390\n",
            "Epoch 9/50\n",
            "5639/5639 [==============================] - 12s 2ms/step - loss: 22.9842 - acc: 0.5015 - val_loss: 13.7910 - val_acc: 0.6511\n",
            "Epoch 10/50\n",
            "5639/5639 [==============================] - 12s 2ms/step - loss: 21.8597 - acc: 0.5040 - val_loss: 20.3274 - val_acc: 0.7206\n",
            "Epoch 11/50\n",
            "5639/5639 [==============================] - 12s 2ms/step - loss: 24.2834 - acc: 0.5182 - val_loss: 18.8928 - val_acc: 0.6447\n",
            "Epoch 12/50\n",
            "5639/5639 [==============================] - 12s 2ms/step - loss: 19.2863 - acc: 0.5350 - val_loss: 9.8859 - val_acc: 0.7234\n",
            "Epoch 13/50\n",
            "5639/5639 [==============================] - 12s 2ms/step - loss: 17.3417 - acc: 0.5395 - val_loss: 6.6142 - val_acc: 0.7241\n",
            "Epoch 14/50\n",
            "5639/5639 [==============================] - 12s 2ms/step - loss: 16.9336 - acc: 0.5723 - val_loss: 25.0133 - val_acc: 0.7319\n",
            "Epoch 15/50\n",
            "5639/5639 [==============================] - 12s 2ms/step - loss: 19.1878 - acc: 0.5568 - val_loss: 23.5013 - val_acc: 0.6908\n",
            "Epoch 16/50\n",
            "5639/5639 [==============================] - 12s 2ms/step - loss: 20.5208 - acc: 0.5632 - val_loss: 8.9739 - val_acc: 0.6745\n",
            "Epoch 17/50\n",
            "5639/5639 [==============================] - 12s 2ms/step - loss: 16.3845 - acc: 0.5581 - val_loss: 11.3220 - val_acc: 0.7170\n",
            "Epoch 18/50\n",
            "5639/5639 [==============================] - 12s 2ms/step - loss: 15.9281 - acc: 0.5799 - val_loss: 8.7104 - val_acc: 0.5929\n",
            "Epoch 19/50\n",
            "5639/5639 [==============================] - 12s 2ms/step - loss: 15.7302 - acc: 0.5659 - val_loss: 19.4735 - val_acc: 0.7135\n",
            "Epoch 20/50\n",
            "5639/5639 [==============================] - 12s 2ms/step - loss: 19.4130 - acc: 0.5859 - val_loss: 12.8371 - val_acc: 0.6986\n",
            "Epoch 21/50\n",
            "5639/5639 [==============================] - 12s 2ms/step - loss: 21.5122 - acc: 0.5925 - val_loss: 44.9839 - val_acc: 0.7156\n",
            "Epoch 22/50\n",
            "5639/5639 [==============================] - 12s 2ms/step - loss: 19.6020 - acc: 0.5726 - val_loss: 17.4803 - val_acc: 0.7142\n",
            "Epoch 23/50\n",
            "5639/5639 [==============================] - 12s 2ms/step - loss: 21.9167 - acc: 0.5943 - val_loss: 12.5978 - val_acc: 0.6440\n",
            "Epoch 24/50\n",
            "5639/5639 [==============================] - 12s 2ms/step - loss: 16.6351 - acc: 0.5911 - val_loss: 12.0697 - val_acc: 0.7319\n",
            "Epoch 25/50\n",
            "5639/5639 [==============================] - 12s 2ms/step - loss: 19.4867 - acc: 0.6092 - val_loss: 17.3714 - val_acc: 0.7206\n",
            "Epoch 26/50\n",
            "5639/5639 [==============================] - 12s 2ms/step - loss: 16.6364 - acc: 0.6033 - val_loss: 24.4905 - val_acc: 0.7518\n",
            "Epoch 27/50\n",
            "5639/5639 [==============================] - 12s 2ms/step - loss: 18.7197 - acc: 0.6060 - val_loss: 8.5986 - val_acc: 0.7305\n",
            "Epoch 28/50\n",
            "5639/5639 [==============================] - 12s 2ms/step - loss: 13.8620 - acc: 0.6154 - val_loss: 9.0450 - val_acc: 0.7248\n",
            "Epoch 29/50\n",
            "5639/5639 [==============================] - 12s 2ms/step - loss: 13.0600 - acc: 0.6242 - val_loss: 8.7971 - val_acc: 0.7454\n",
            "Epoch 30/50\n",
            "5639/5639 [==============================] - 12s 2ms/step - loss: 14.3183 - acc: 0.6327 - val_loss: 8.8510 - val_acc: 0.7234\n",
            "Epoch 31/50\n",
            "5639/5639 [==============================] - 12s 2ms/step - loss: 14.0823 - acc: 0.6207 - val_loss: 18.6722 - val_acc: 0.7638\n",
            "Epoch 32/50\n",
            "5639/5639 [==============================] - 12s 2ms/step - loss: 16.6605 - acc: 0.6194 - val_loss: 21.2978 - val_acc: 0.7340\n",
            "Epoch 33/50\n",
            "5639/5639 [==============================] - 12s 2ms/step - loss: 16.4032 - acc: 0.6189 - val_loss: 12.0673 - val_acc: 0.6801\n",
            "Epoch 34/50\n",
            "5639/5639 [==============================] - 12s 2ms/step - loss: 12.3313 - acc: 0.6260 - val_loss: 4.1825 - val_acc: 0.7326\n",
            "Epoch 35/50\n",
            "5639/5639 [==============================] - 12s 2ms/step - loss: 11.5695 - acc: 0.6540 - val_loss: 7.5994 - val_acc: 0.7390\n",
            "Epoch 36/50\n",
            "5639/5639 [==============================] - 12s 2ms/step - loss: 11.8713 - acc: 0.6384 - val_loss: 10.3405 - val_acc: 0.7376\n",
            "Epoch 37/50\n",
            "5639/5639 [==============================] - 12s 2ms/step - loss: 13.0379 - acc: 0.6576 - val_loss: 12.0544 - val_acc: 0.7418\n",
            "Epoch 38/50\n",
            "5639/5639 [==============================] - 12s 2ms/step - loss: 12.4644 - acc: 0.6664 - val_loss: 12.3898 - val_acc: 0.7482\n",
            "Epoch 39/50\n",
            "5639/5639 [==============================] - 12s 2ms/step - loss: 11.9052 - acc: 0.6827 - val_loss: 5.6879 - val_acc: 0.7312\n",
            "Epoch 40/50\n",
            "5639/5639 [==============================] - 12s 2ms/step - loss: 11.6052 - acc: 0.6590 - val_loss: 7.6356 - val_acc: 0.7468\n",
            "Epoch 41/50\n",
            "5639/5639 [==============================] - 12s 2ms/step - loss: 11.2373 - acc: 0.6737 - val_loss: 6.4000 - val_acc: 0.7610\n",
            "Epoch 42/50\n",
            "5639/5639 [==============================] - 12s 2ms/step - loss: 10.9657 - acc: 0.6808 - val_loss: 4.7405 - val_acc: 0.7312\n",
            "Epoch 43/50\n",
            "5639/5639 [==============================] - 12s 2ms/step - loss: 11.8190 - acc: 0.6762 - val_loss: 14.6891 - val_acc: 0.7759\n",
            "Epoch 44/50\n",
            "5639/5639 [==============================] - 12s 2ms/step - loss: 13.9698 - acc: 0.6813 - val_loss: 8.3193 - val_acc: 0.7546\n",
            "Epoch 45/50\n",
            "5639/5639 [==============================] - 12s 2ms/step - loss: 11.0123 - acc: 0.6772 - val_loss: 5.2994 - val_acc: 0.7660\n",
            "Epoch 46/50\n",
            "5639/5639 [==============================] - 12s 2ms/step - loss: 9.8830 - acc: 0.6927 - val_loss: 13.2449 - val_acc: 0.7262\n",
            "Epoch 47/50\n",
            "5639/5639 [==============================] - 12s 2ms/step - loss: 14.2696 - acc: 0.6833 - val_loss: 5.7122 - val_acc: 0.7723\n",
            "Epoch 48/50\n",
            "5639/5639 [==============================] - 12s 2ms/step - loss: 11.6661 - acc: 0.6937 - val_loss: 4.4367 - val_acc: 0.7468\n",
            "Epoch 49/50\n",
            "5639/5639 [==============================] - 12s 2ms/step - loss: 11.3166 - acc: 0.7005 - val_loss: 16.9623 - val_acc: 0.7716\n",
            "Epoch 50/50\n",
            "5639/5639 [==============================] - 12s 2ms/step - loss: 10.3977 - acc: 0.6966 - val_loss: 3.6933 - val_acc: 0.7447\n"
          ],
          "name": "stdout"
        },
        {
          "output_type": "execute_result",
          "data": {
            "text/plain": [
              "<keras.callbacks.History at 0x7f6800e96c18>"
            ]
          },
          "metadata": {
            "tags": []
          },
          "execution_count": 48
        }
      ]
    },
    {
      "cell_type": "code",
      "metadata": {
        "id": "TP66VrAH98sZ",
        "colab_type": "code",
        "colab": {}
      },
      "source": [
        "timag = []\n",
        "for i in range(0,1783):\n",
        "    timg = test_data['Image'][i].split(' ')\n",
        "    timg = ['0' if x == '' else x for x in timg]\n",
        "    \n",
        "    timag.append(timg)"
      ],
      "execution_count": 0,
      "outputs": []
    },
    {
      "cell_type": "code",
      "metadata": {
        "id": "V5ktrmhCAW-G",
        "colab_type": "code",
        "colab": {}
      },
      "source": [
        "timage_list = np.array(timag,dtype = 'uint8')\n",
        "X_test = timage_list.reshape(-1,96,96,1) "
      ],
      "execution_count": 0,
      "outputs": []
    },
    {
      "cell_type": "code",
      "metadata": {
        "id": "kfgL1G5tAdFs",
        "colab_type": "code",
        "colab": {}
      },
      "source": [
        "del timag"
      ],
      "execution_count": 0,
      "outputs": []
    },
    {
      "cell_type": "code",
      "metadata": {
        "id": "kLmvAY4xAqm8",
        "colab_type": "code",
        "colab": {
          "base_uri": "https://localhost:8080/",
          "height": 269
        },
        "outputId": "15f04284-8325-4f02-cdab-9c3a9d2b7938"
      },
      "source": [
        "plt.imshow(X_test[20].reshape(96,96),cmap = 'gray')\n",
        "plt.show()"
      ],
      "execution_count": 54,
      "outputs": [
        {
          "output_type": "display_data",
          "data": {
            "image/png": "[encoded data removed]",
            "text/plain": [
              "<Figure size 432x288 with 1 Axes>"
            ]
          },
          "metadata": {
            "tags": []
          }
        }
      ]
    },
    {
      "cell_type": "code",
      "metadata": {
        "id": "-mEMJdqBBAw6",
        "colab_type": "code",
        "colab": {}
      },
      "source": [
        "pred = model.predict(X_test)"
      ],
      "execution_count": 0,
      "outputs": []
    },
    {
      "cell_type": "code",
      "metadata": {
        "id": "U34sRrusCQCE",
        "colab_type": "code",
        "colab": {}
      },
      "source": [
        "lookid_list = list(lookid_data['FeatureName'])\n",
        "imageID = list(lookid_data['ImageId']-1)\n",
        "pre_list = list(pred)"
      ],
      "execution_count": 0,
      "outputs": []
    },
    {
      "cell_type": "code",
      "metadata": {
        "id": "IWIYf4pKCWAy",
        "colab_type": "code",
        "colab": {}
      },
      "source": [
        "rowid = lookid_data['RowId']\n",
        "rowid=list(rowid)"
      ],
      "execution_count": 0,
      "outputs": []
    },
    {
      "cell_type": "code",
      "metadata": {
        "id": "j1iy0yeXCY-i",
        "colab_type": "code",
        "colab": {}
      },
      "source": [
        "feature = []\n",
        "for f in list(lookid_data['FeatureName']):\n",
        "    feature.append(lookid_list.index(f))"
      ],
      "execution_count": 0,
      "outputs": []
    },
    {
      "cell_type": "code",
      "metadata": {
        "id": "rM6EyG1dCbgr",
        "colab_type": "code",
        "colab": {}
      },
      "source": [
        "preded = []\n",
        "for x,y in zip(imageID,feature):\n",
        "    preded.append(pre_list[x][y])"
      ],
      "execution_count": 0,
      "outputs": []
    },
    {
      "cell_type": "code",
      "metadata": {
        "id": "hp5MiEnfCeMz",
        "colab_type": "code",
        "colab": {}
      },
      "source": [
        "rowid = pd.Series(rowid,name = 'RowId')"
      ],
      "execution_count": 0,
      "outputs": []
    },
    {
      "cell_type": "code",
      "metadata": {
        "id": "ddzKWl8xCmpZ",
        "colab_type": "code",
        "colab": {}
      },
      "source": [
        "loc = pd.Series(preded,name = 'Location')\n"
      ],
      "execution_count": 0,
      "outputs": []
    },
    {
      "cell_type": "code",
      "metadata": {
        "id": "xTOZBIuNCoXX",
        "colab_type": "code",
        "colab": {}
      },
      "source": [
        "submission = pd.concat([rowid,loc],axis = 1)"
      ],
      "execution_count": 0,
      "outputs": []
    },
    {
      "cell_type": "code",
      "metadata": {
        "id": "_klffvfgCrIX",
        "colab_type": "code",
        "colab": {}
      },
      "source": [
        "submission.to_csv('face_key_detection_submission.csv',index = False)"
      ],
      "execution_count": 0,
      "outputs": []
    },
    {
      "cell_type": "code",
      "metadata": {
        "id": "daxfs-CICtOI",
        "colab_type": "code",
        "colab": {}
      },
      "source": [
        ""
      ],
      "execution_count": 0,
      "outputs": []
    }
  ]
}